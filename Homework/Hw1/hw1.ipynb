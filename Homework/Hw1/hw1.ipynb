{
 "cells": [
  {
   "cell_type": "markdown",
   "metadata": {},
   "source": [
    "## 作业1：跳伞运动员仿真\n",
    "1、设有一个系统，它的微分方程为：\n",
    "$$\\ddot{y}+3\\dot{y}+2y=\\dot{u}+u$$\n",
    "已知系统的初始条件为：\n",
    "$$\\dot{y}(0)=1,y(0)=1,u(0)=0$$\n",
    "试确定该系统的内部模型，并给出状态变量的初值。\n",
    "   \n",
    "2、现有洛伦兹吸引子的一组微分方程组：\n",
    "$$\\frac{dx}{dt}=\\sigma(y-x),\\frac{dy}{dt}=x(\\rho-z)-y,\\frac{dz}{dt}=xy-\\beta{z}$$\n",
    "设参数值为：\n",
    "$$\\sigma=10,\\rho=28,\\beta=\\frac{8}{3}$$\n",
    "试编写Python程序画出洛伦兹吸引子的曲线。\n",
    "\n",
    "3、试采用Python实现前向Euler、二阶Adams、三阶Adams和四阶Runge-Kutta法四种数值积分，并使用降落伞仿真比较几种数值积分的精度。\n",
    "\n",
    "作业要求：写成ipynb文件提交，代码和曲线结果嵌入在文件里。"
   ]
  }
 ],
 "metadata": {
  "kernelspec": {
   "display_name": "Python 3.9.13 64-bit (microsoft store)",
   "language": "python",
   "name": "python3"
  },
  "language_info": {
   "codemirror_mode": {
    "name": "ipython",
    "version": 3
   },
   "file_extension": ".py",
   "mimetype": "text/x-python",
   "name": "python",
   "nbconvert_exporter": "python",
   "pygments_lexer": "ipython3",
   "version": "3.9.13"
  },
  "vscode": {
   "interpreter": {
    "hash": "19e2c3b4e792a6847e9be95c716f6fda0765cc5386ef104f7a4317b67471eb93"
   }
  }
 },
 "nbformat": 4,
 "nbformat_minor": 4
}
